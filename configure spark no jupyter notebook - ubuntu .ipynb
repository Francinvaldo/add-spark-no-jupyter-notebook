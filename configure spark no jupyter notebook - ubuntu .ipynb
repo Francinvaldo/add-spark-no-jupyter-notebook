{
 "cells": [
  {
   "cell_type": "code",
   "execution_count": null,
   "metadata": {
    "collapsed": true
   },
   "outputs": [],
   "source": [
    "export ANACONDA_ROOT=~/anaconda3\n",
    "export PYSPARK_DRIVER_PYTHON=$ANACONDA_ROOT/bin/ipython\n",
    "export PYSPARK_PYTHON=$ANACONDA_ROOT/bin/python\n",
    "\n",
    "#juyter\n",
    "\n",
    "export PYSPARK_DRIVER_PYTHON=jupyter\n",
    "export PYSPARK_DRIVER_PYTHON_OPTS=notebook\n",
    "\n",
    "export SPARK_HOME=/opt/spark\n",
    "export PYLIB=/opt/spark/python/lib\n",
    "\n",
    "export PYTHONPATH=$SPARK_HOME/python:$SPARK_HOME/python/lib:$PYTHONPATH\n",
    "export PYTHONPATH=$SPARK_HOME/python/lib/py4j-0.10.4-src.zip:$PYTHONPATH"
   ]
  },
  {
   "cell_type": "markdown",
   "metadata": {},
   "source": []
  }
 ],
 "metadata": {
  "kernelspec": {
   "display_name": "Python 3",
   "language": "python",
   "name": "python3"
  },
  "language_info": {
   "codemirror_mode": {
    "name": "ipython",
    "version": 3
   },
   "file_extension": ".py",
   "mimetype": "text/x-python",
   "name": "python",
   "nbconvert_exporter": "python",
   "pygments_lexer": "ipython3",
   "version": "3.5.2"
  }
 },
 "nbformat": 4,
 "nbformat_minor": 2
}
