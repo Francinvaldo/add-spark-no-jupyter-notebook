{
 "cells": [
  {
   "cell_type": "code",
   "execution_count": 74,
   "metadata": {
    "collapsed": false
   },
   "outputs": [],
   "source": [
    "import pandas as pd\n",
    "import numpy as np\n"
   ]
  },
  {
   "cell_type": "code",
   "execution_count": 75,
   "metadata": {
    "collapsed": false
   },
   "outputs": [
    {
     "name": "stdout",
     "output_type": "stream",
     "text": [
      "201609_Diarias.csv  desafio.csv       \u001b[0m\u001b[01;34mmetastore_db\u001b[0m/                   wise.csv\r\n",
      "\u001b[01;31m201609_Diarias.zip\u001b[0m  diarias.utf8.csv  Projeto - A - Seperação .ipynb\r\n",
      "derby.log           francinvaldo.csv  Spark 2  - .ipynb\r\n"
     ]
    }
   ],
   "source": [
    "ls"
   ]
  },
  {
   "cell_type": "code",
   "execution_count": 76,
   "metadata": {
    "collapsed": false
   },
   "outputs": [],
   "source": [
    "#df = spark.read.format(\"com.databricks.spark.csv\") \\\n",
    "#        .option('header','false') \\\n",
    "#        .option('delimiter','\\t') \\\n",
    "#        .option('inferSchema','true') \\\n",
    "#        .load('francinvaldo.csv')"
   ]
  },
  {
   "cell_type": "code",
   "execution_count": null,
   "metadata": {
    "collapsed": true
   },
   "outputs": [],
   "source": []
  },
  {
   "cell_type": "code",
   "execution_count": 77,
   "metadata": {
    "collapsed": false,
    "scrolled": true
   },
   "outputs": [],
   "source": [
    "#df.show()\n",
    "#df.printSchema()\n",
    "#df.select('_c1').show(1, truncate=False)\n"
   ]
  },
  {
   "cell_type": "code",
   "execution_count": 78,
   "metadata": {
    "collapsed": false
   },
   "outputs": [],
   "source": [
    "r = pd.read_csv('desafio.csv' ) #primeiro colocar dentro de um pandas"
   ]
  },
  {
   "cell_type": "code",
   "execution_count": 79,
   "metadata": {
    "collapsed": false
   },
   "outputs": [],
   "source": [
    "df= spark.createDataFrame(r,['order_id','code','quantity','price','pis_confins','icms','tax_substitution','category','liquid_cost','order_status','capture_data','process_date','process_status','source_channel'])"
   ]
  },
  {
   "cell_type": "code",
   "execution_count": 80,
   "metadata": {
    "collapsed": false
   },
   "outputs": [
    {
     "name": "stdout",
     "output_type": "stream",
     "text": [
      "root\n",
      " |-- order_id: string (nullable = true)\n",
      " |-- code: string (nullable = true)\n",
      " |-- quantity: long (nullable = true)\n",
      " |-- price: double (nullable = true)\n",
      " |-- pis_confins: double (nullable = true)\n",
      " |-- icms: double (nullable = true)\n",
      " |-- tax_substitution: double (nullable = true)\n",
      " |-- category: string (nullable = true)\n",
      " |-- liquid_cost: double (nullable = true)\n",
      " |-- order_status: string (nullable = true)\n",
      " |-- capture_data: string (nullable = true)\n",
      " |-- process_date: string (nullable = true)\n",
      " |-- process_status: string (nullable = true)\n",
      " |-- source_channel: string (nullable = true)\n",
      "\n",
      "+--------------------+\n",
      "|                code|\n",
      "+--------------------+\n",
      "|e6762ba2ffbca07ab...|\n",
      "|e6762ba2ffbca07ab...|\n",
      "+--------------------+\n",
      "only showing top 2 rows\n",
      "\n",
      "+--------------------------------+--------------------------------+--------+-------+-----------+--------+----------------+--------------------------------+-----------+------------------+------------+------------+--------------+--------------------------------+\n",
      "|order_id                        |code                            |quantity|price  |pis_confins|icms    |tax_substitution|category                        |liquid_cost|order_status      |capture_data|process_date|process_status|source_channel                  |\n",
      "+--------------------------------+--------------------------------+--------+-------+-----------+--------+----------------+--------------------------------+-----------+------------------+------------+------------+--------------+--------------------------------+\n",
      "|bcb59c839e78b2601374cbad9239ca7b|e6762ba2ffbca07ab6cee7551caeaad5|1       |978.9  |90.5483    |0.0     |191.8416        |4ece547755cba9e7fc14125bc895f31b|542.7065   |entrega total     |2016-06-11  |2016-06-11  |processado    |b76eb9b8fc0f17098812da9117d3e500|\n",
      "|4e91ee6b95895771dc9ee524e910a902|e6762ba2ffbca07ab6cee7551caeaad5|1       |1036.29|95.8568    |176.1693|0.0             |4ece547755cba9e7fc14125bc895f31b|542.7065   |em rota de entrega|2016-06-11  |2016-06-11  |processado    |b76eb9b8fc0f17098812da9117d3e500|\n",
      "+--------------------------------+--------------------------------+--------+-------+-----------+--------+----------------+--------------------------------+-----------+------------------+------------+------------+--------------+--------------------------------+\n",
      "only showing top 2 rows\n",
      "\n"
     ]
    }
   ],
   "source": [
    "df.printSchema()\n",
    "df.select('code').show(2)\n",
    "df.show(2, truncate=False)"
   ]
  },
  {
   "cell_type": "code",
   "execution_count": 81,
   "metadata": {
    "collapsed": false
   },
   "outputs": [
    {
     "data": {
      "text/plain": [
       "179149"
      ]
     },
     "execution_count": 81,
     "metadata": {},
     "output_type": "execute_result"
    }
   ],
   "source": [
    "df.count()"
   ]
  },
  {
   "cell_type": "code",
   "execution_count": 82,
   "metadata": {
    "collapsed": false
   },
   "outputs": [
    {
     "name": "stdout",
     "output_type": "stream",
     "text": [
      "root\n",
      " |-- order_id: string (nullable = true)\n",
      " |-- code: string (nullable = true)\n",
      " |-- quantity: long (nullable = true)\n",
      " |-- price: double (nullable = true)\n",
      " |-- pis_confins: double (nullable = true)\n",
      " |-- icms: double (nullable = true)\n",
      " |-- tax_substitution: double (nullable = true)\n",
      " |-- category: string (nullable = true)\n",
      " |-- liquid_cost: double (nullable = true)\n",
      " |-- order_status: string (nullable = true)\n",
      " |-- capture_data: string (nullable = true)\n",
      " |-- process_date: string (nullable = true)\n",
      " |-- process_status: string (nullable = true)\n",
      " |-- source_channel: string (nullable = true)\n",
      "\n"
     ]
    }
   ],
   "source": [
    "df.printSchema()"
   ]
  },
  {
   "cell_type": "code",
   "execution_count": 83,
   "metadata": {
    "collapsed": false
   },
   "outputs": [
    {
     "name": "stdout",
     "output_type": "stream",
     "text": [
      "+--------------------+--------------------+\n",
      "|            order_id|                code|\n",
      "+--------------------+--------------------+\n",
      "|bcb59c839e78b2601...|e6762ba2ffbca07ab...|\n",
      "|4e91ee6b95895771d...|e6762ba2ffbca07ab...|\n",
      "|88eb0ac86af1a521c...|e6762ba2ffbca07ab...|\n",
      "|dee418152a36314b4...|e6762ba2ffbca07ab...|\n",
      "|1c175bc61b9b659bb...|e6762ba2ffbca07ab...|\n",
      "|a8ad36828898fa3f6...|e6762ba2ffbca07ab...|\n",
      "|9cbfaac6e04ea6ed4...|e6762ba2ffbca07ab...|\n",
      "|66849664f7d51ea5a...|e6762ba2ffbca07ab...|\n",
      "|6bf569a291e777227...|e6762ba2ffbca07ab...|\n",
      "|a069e4dc33e94dc5c...|e6762ba2ffbca07ab...|\n",
      "|07aefc4a183c52422...|e6762ba2ffbca07ab...|\n",
      "|1ea367d79480eea53...|e6762ba2ffbca07ab...|\n",
      "|c4aef3eecf9225635...|e6762ba2ffbca07ab...|\n",
      "|1fdc97e3c5be6afc9...|e6762ba2ffbca07ab...|\n",
      "|72041991cf046451e...|e6762ba2ffbca07ab...|\n",
      "|da00886898e8b5ca6...|e6762ba2ffbca07ab...|\n",
      "|65f6719bbf7c46d21...|e6762ba2ffbca07ab...|\n",
      "|5bf85c485e5e35402...|e6762ba2ffbca07ab...|\n",
      "|a33fe3ee40e99a9e9...|e6762ba2ffbca07ab...|\n",
      "|e566d486ec3052c7b...|e6762ba2ffbca07ab...|\n",
      "+--------------------+--------------------+\n",
      "only showing top 20 rows\n",
      "\n"
     ]
    }
   ],
   "source": [
    "df.select('order_id','code').show()"
   ]
  },
  {
   "cell_type": "code",
   "execution_count": 84,
   "metadata": {
    "collapsed": true
   },
   "outputs": [],
   "source": [
    "#contar alguns dados "
   ]
  },
  {
   "cell_type": "code",
   "execution_count": 85,
   "metadata": {
    "collapsed": false
   },
   "outputs": [
    {
     "data": {
      "text/plain": [
       "57"
      ]
     },
     "execution_count": 85,
     "metadata": {},
     "output_type": "execute_result"
    }
   ],
   "source": [
    "df.filter(df['code'] == 'e6762ba2ffbca07ab6cee7551caeaad5').count()"
   ]
  },
  {
   "cell_type": "code",
   "execution_count": 86,
   "metadata": {
    "collapsed": true
   },
   "outputs": [],
   "source": [
    "#pega todos so valores diferentes"
   ]
  },
  {
   "cell_type": "code",
   "execution_count": 87,
   "metadata": {
    "collapsed": false
   },
   "outputs": [
    {
     "name": "stdout",
     "output_type": "stream",
     "text": [
      "+--------------------------------+\n",
      "|code                            |\n",
      "+--------------------------------+\n",
      "|270dcdb08fc6470a6976f43b8169b0f6|\n",
      "|c443d252c048280160fc427766d9f1f4|\n",
      "|bc4d7296a37f5dfa0944b3274229b0a0|\n",
      "|498556cd1dade09f21fea97d3c916875|\n",
      "|75caad099f6f8c205e22e93826732c22|\n",
      "|600c486af5e3f2d1624d2fc872e20e16|\n",
      "|585eead66aaf3b2e140d480979184ae6|\n",
      "|dd1935ffd0ee2b6ec159ba7867d11e57|\n",
      "|630b051b117d509fc00a7c72328b1ddf|\n",
      "|193628b6634713730d3c506f2da0ff58|\n",
      "|4557c7e5af70efd2e3ca2befd59ccdc3|\n",
      "|3b4407288e2983a514a241c9b84b7094|\n",
      "|cbeb3a98c1c9b01522db6ee2128ed805|\n",
      "|3d3d13446c52ecaaed5d0bf55a933d4d|\n",
      "|b08b7321c4db8f45a1a97a79d1e44dd8|\n",
      "|411e1404e183718207628232e91ce5a9|\n",
      "|4534ea61b50410b3b6243e02b40c8cd1|\n",
      "|7da116bd1d42f3475803402e710253cf|\n",
      "|7c829a5a8a0e4408b682f4394783483e|\n",
      "|2bc9e1d807d8f9187b8650acd35a14e5|\n",
      "|0671c2b9132a3f5215a4212ce0691694|\n",
      "|b763aecfcfc8cbac2c3a51488d33480a|\n",
      "|c32ada18ec4f2992e8c003ffeb73b97b|\n",
      "|49d1447a5d1a218169eef2ea58cdc149|\n",
      "|1f12f1e1b9e7a20d4ad9dd549ec072c0|\n",
      "|37e2a39e829495d13b6cbb5320413e48|\n",
      "|618ea23457368cf423b03d6b8fede992|\n",
      "|1b3980ee40dc5d60ecae3b19cd41f49a|\n",
      "|d32bc6c4069b86ba9e9d7d651dbf1a1e|\n",
      "|7e3713530b46887cff58a2e2ac433ac5|\n",
      "|727673fa3e457bc596532b3eb26b23a0|\n",
      "|40bddb00475d65eddb68e9aeb6fab0de|\n",
      "|c27a276b623c751a6b0a8ad6243d681d|\n",
      "|29f175b6bccc264e8141481dcda8102d|\n",
      "|5ff2d52d31bf9ad42924a35c4729ffdb|\n",
      "|a586c072b4a3958ac72a6fff71730cb3|\n",
      "|4ef261b089aa567ef24778fae254bfe2|\n",
      "|5fb59bee157577ee04a269e52af88598|\n",
      "|13b69fd4bf80b95756e3b138c9169a7f|\n",
      "|24549e47832f72f647d40a86b43b6925|\n",
      "|374e1947dcb8f4848f4ada6f04921edd|\n",
      "|453d427550d3816e446d4882bf67a75f|\n",
      "|2ab0e87dbce6ac45502aa1d2a8265933|\n",
      "|b9d929195dcd4e6a36e5e65891746b5e|\n",
      "|a2018dae10d736a66eea5a0a349ef9ee|\n",
      "|1c234775cae774823f38abe6721e61a4|\n",
      "|9cdf9e07e226869d8da4a3e10ac65c62|\n",
      "|3454ea52396a4cfd3fc37414d30c7b9c|\n",
      "|118484c270085e811fbbc81978a269b2|\n",
      "|5e39201e582b1bb89cae7f650e4330c8|\n",
      "|5b7a30a9e6a43b170ad4d9e00d8d9359|\n",
      "|a7772a34be22f0fd09f0ef36b6eb337f|\n",
      "|7162b3182cd93dd197257b0339627554|\n",
      "|5490e2abafb28c022e53b55ba6641122|\n",
      "|c85f192a81fa83780e5c012175749eee|\n",
      "|547bbdaa191bdb83d5b5b376bf2402fb|\n",
      "|213005fe5d815c539812614f1f6a7768|\n",
      "|ae5a740ca930b9149f590179b0dde3f3|\n",
      "|b367e71967b4701550ffce69e729ee6f|\n",
      "|3bc993e0f0c636e9aaaefa0356bdecc0|\n",
      "|4b58730cdc153f4eeda0d1321e630ba4|\n",
      "|0f38be2df6854b4374f06cae1bc38482|\n",
      "|5837d4e32e5382af65d33b4dfbd9f561|\n",
      "|60424117a2618c7184687046fa5693c4|\n",
      "|a0c96bb1b4117eeeae27b77a1381f55f|\n",
      "|2e35421c34fb588ba40a0c57b3971d24|\n",
      "|30b6a9b1621f558d788ffb3d07a19281|\n",
      "|e0b4fdba39475c05a3ac9e769cce9bfa|\n",
      "|f08984b2adcbf33ba61fe13fcfa5b957|\n",
      "|51016cd454b391dd0b0e23b2b16b6fc3|\n",
      "|41e2bee39c1d3ef52fcedd69d0ab8c8c|\n",
      "|8e5d2c3f2476cb5c507dd0f00f6eabda|\n",
      "|f9a023f31c8087fd0c169b3bedd351d1|\n",
      "|ce4baabfbcb1d43e22f7ba44b49f2714|\n",
      "|d4592ab52cb9cd5af0510943a4c8e28c|\n",
      "|723f73c85e91fc31d147dfade389d4f9|\n",
      "|8bdd60f700ed8368e66080eb6bb6d313|\n",
      "|23056d85a1c9115cd021a6ad35c84aff|\n",
      "|3d21b63892749e921e3ff5818753bd67|\n",
      "|6ace63708a91744bea8a68311bb3506c|\n",
      "|ffdad3ddbaf6c76c9bba1b48c51e03c6|\n",
      "|6c82ad0e791258434fd42c51409b0239|\n",
      "|d5bc9e14d090330cd07e6ccbcb3c3e4e|\n",
      "|c348d9bc6a152d8d34489a79ab9452a7|\n",
      "|bc97d7cb7c13c2a7ff4558bb12a3f047|\n",
      "|fd84644da59504bd9e9dcb4b6db63bea|\n",
      "|e13f7f001fe2b1af072a3d50d3058284|\n",
      "|3a36dc63a58442085d0ccd98c4f9c64a|\n",
      "|8ca06ab9bced028b2f180d4fa0527588|\n",
      "|e6762ba2ffbca07ab6cee7551caeaad5|\n",
      "|6411de56554a998e78ae1317fc956e19|\n",
      "|390943ce05959ac98c702d250c2ebb54|\n",
      "|c85bd735a203c905716bc8fba284d02a|\n",
      "|525848b647262de5fd7be193b17cdaac|\n",
      "|ee2b4e97025f5ca840570265c4288c99|\n",
      "|29424aaf6e27a8dbe4b7273a0a39131d|\n",
      "|0dca7ec6ba9b6e8f17f04f713a6be727|\n",
      "|0bbe09e34a11e8e31cf49d6f8df2992d|\n",
      "|f5f92c2a12f182115c45288a6ef28e94|\n",
      "|e6017ce062eb324ab446e9983afba369|\n",
      "+--------------------------------+\n",
      "only showing top 100 rows\n",
      "\n"
     ]
    }
   ],
   "source": [
    "df.select('code').distinct().show(100, truncate=False)"
   ]
  },
  {
   "cell_type": "code",
   "execution_count": 88,
   "metadata": {
    "collapsed": true
   },
   "outputs": [],
   "source": [
    "#grupoBy"
   ]
  },
  {
   "cell_type": "code",
   "execution_count": 89,
   "metadata": {
    "collapsed": false
   },
   "outputs": [
    {
     "name": "stdout",
     "output_type": "stream",
     "text": [
      "+--------------------------------+-----+\n",
      "|code                            |count|\n",
      "+--------------------------------+-----+\n",
      "|270dcdb08fc6470a6976f43b8169b0f6|2    |\n",
      "|c443d252c048280160fc427766d9f1f4|168  |\n",
      "|bc4d7296a37f5dfa0944b3274229b0a0|462  |\n",
      "|498556cd1dade09f21fea97d3c916875|1214 |\n",
      "|75caad099f6f8c205e22e93826732c22|666  |\n",
      "|600c486af5e3f2d1624d2fc872e20e16|537  |\n",
      "|585eead66aaf3b2e140d480979184ae6|582  |\n",
      "|dd1935ffd0ee2b6ec159ba7867d11e57|881  |\n",
      "|630b051b117d509fc00a7c72328b1ddf|7    |\n",
      "|193628b6634713730d3c506f2da0ff58|3597 |\n",
      "|4557c7e5af70efd2e3ca2befd59ccdc3|1486 |\n",
      "|3b4407288e2983a514a241c9b84b7094|11   |\n",
      "|cbeb3a98c1c9b01522db6ee2128ed805|499  |\n",
      "|3d3d13446c52ecaaed5d0bf55a933d4d|179  |\n",
      "|b08b7321c4db8f45a1a97a79d1e44dd8|4487 |\n",
      "|411e1404e183718207628232e91ce5a9|82   |\n",
      "|4534ea61b50410b3b6243e02b40c8cd1|17225|\n",
      "|7da116bd1d42f3475803402e710253cf|2094 |\n",
      "|7c829a5a8a0e4408b682f4394783483e|140  |\n",
      "|2bc9e1d807d8f9187b8650acd35a14e5|3    |\n",
      "+--------------------------------+-----+\n",
      "only showing top 20 rows\n",
      "\n"
     ]
    }
   ],
   "source": [
    "df.groupBy('code').count().show(truncate =False)"
   ]
  },
  {
   "cell_type": "code",
   "execution_count": 90,
   "metadata": {
    "collapsed": false
   },
   "outputs": [
    {
     "name": "stdout",
     "output_type": "stream",
     "text": [
      "+--------------------------------+-----+\n",
      "|code                            |count|\n",
      "+--------------------------------+-----+\n",
      "|270dcdb08fc6470a6976f43b8169b0f6|2    |\n",
      "|2bc9e1d807d8f9187b8650acd35a14e5|3    |\n",
      "|b3fca69c356bec270dc3a90f8b498883|6    |\n",
      "|630b051b117d509fc00a7c72328b1ddf|7    |\n",
      "|3b4407288e2983a514a241c9b84b7094|11   |\n",
      "|b272ba3f4adb1dd16eaac1b53940629e|31   |\n",
      "|c27a276b623c751a6b0a8ad6243d681d|51   |\n",
      "|e6762ba2ffbca07ab6cee7551caeaad5|57   |\n",
      "|c85bd735a203c905716bc8fba284d02a|58   |\n",
      "|41e2bee39c1d3ef52fcedd69d0ab8c8c|59   |\n",
      "|59af761735fbd646f8a8f98dc88f6fab|69   |\n",
      "|8e5d2c3f2476cb5c507dd0f00f6eabda|75   |\n",
      "|d408e1b5e841dde4e15a4cfa182e3812|80   |\n",
      "|5bcebbc4f704cffaf2e6ccaf1d1fb5c7|81   |\n",
      "|411e1404e183718207628232e91ce5a9|82   |\n",
      "|a36f5dfa4f08cdfe64594061ba76f30e|91   |\n",
      "|ce4baabfbcb1d43e22f7ba44b49f2714|108  |\n",
      "|a7772a34be22f0fd09f0ef36b6eb337f|134  |\n",
      "|7c829a5a8a0e4408b682f4394783483e|140  |\n",
      "|d709ff164dc53eb7b8470e84c2b60974|144  |\n",
      "|bc97d7cb7c13c2a7ff4558bb12a3f047|154  |\n",
      "|e6017ce062eb324ab446e9983afba369|156  |\n",
      "|24549e47832f72f647d40a86b43b6925|164  |\n",
      "|213005fe5d815c539812614f1f6a7768|168  |\n",
      "|c443d252c048280160fc427766d9f1f4|168  |\n",
      "|390943ce05959ac98c702d250c2ebb54|178  |\n",
      "|3d3d13446c52ecaaed5d0bf55a933d4d|179  |\n",
      "|3657af9de7395eaba0dbcbcaa6fd90be|182  |\n",
      "|60424117a2618c7184687046fa5693c4|183  |\n",
      "|8bdd60f700ed8368e66080eb6bb6d313|193  |\n",
      "|618ea23457368cf423b03d6b8fede992|196  |\n",
      "|7162b3182cd93dd197257b0339627554|200  |\n",
      "|1f12f1e1b9e7a20d4ad9dd549ec072c0|205  |\n",
      "|1c619f92929dbaa41df54608dc70a7ce|217  |\n",
      "|29424aaf6e27a8dbe4b7273a0a39131d|219  |\n",
      "|37a62c0ad48679cee5554655de294721|228  |\n",
      "|373cc1cfc10a45488be6b97bd5e94c44|254  |\n",
      "|4ef261b089aa567ef24778fae254bfe2|273  |\n",
      "|51016cd454b391dd0b0e23b2b16b6fc3|326  |\n",
      "|0bbe09e34a11e8e31cf49d6f8df2992d|341  |\n",
      "|5ff2d52d31bf9ad42924a35c4729ffdb|346  |\n",
      "|3a36dc63a58442085d0ccd98c4f9c64a|349  |\n",
      "|54209126056016c7c391c0c8fd8e6eff|352  |\n",
      "|1a225367d52023424b6f4b2aa8632615|352  |\n",
      "|6411de56554a998e78ae1317fc956e19|357  |\n",
      "|6ace63708a91744bea8a68311bb3506c|361  |\n",
      "|5490e2abafb28c022e53b55ba6641122|362  |\n",
      "|40d98a2375332cb635d4cb28ab68e087|397  |\n",
      "|374e1947dcb8f4848f4ada6f04921edd|399  |\n",
      "|f08984b2adcbf33ba61fe13fcfa5b957|424  |\n",
      "|9e5dd3c1d252136c4351b84589dae2b5|425  |\n",
      "|ee2b4e97025f5ca840570265c4288c99|438  |\n",
      "|2ab0e87dbce6ac45502aa1d2a8265933|446  |\n",
      "|c348d9bc6a152d8d34489a79ab9452a7|446  |\n",
      "|49d1447a5d1a218169eef2ea58cdc149|450  |\n",
      "|1dbe25b2fd344aed0c444fd6b715525b|450  |\n",
      "|6e6ae6bc648c6a00b4a4b7a8e976a41a|451  |\n",
      "|8ca06ab9bced028b2f180d4fa0527588|454  |\n",
      "|3bc993e0f0c636e9aaaefa0356bdecc0|458  |\n",
      "|bc4d7296a37f5dfa0944b3274229b0a0|462  |\n",
      "|e0b4fdba39475c05a3ac9e769cce9bfa|463  |\n",
      "|3da22f1b88a20ea8efc3d83fcb872e21|469  |\n",
      "|118484c270085e811fbbc81978a269b2|469  |\n",
      "|f5f92c2a12f182115c45288a6ef28e94|485  |\n",
      "|0ad316f6b5cb5e81ebff73ae2490ccfe|489  |\n",
      "|cbeb3a98c1c9b01522db6ee2128ed805|499  |\n",
      "|600c486af5e3f2d1624d2fc872e20e16|537  |\n",
      "|b9d929195dcd4e6a36e5e65891746b5e|562  |\n",
      "|13b69fd4bf80b95756e3b138c9169a7f|580  |\n",
      "|585eead66aaf3b2e140d480979184ae6|582  |\n",
      "|42920a6f15855662ee9a272fbe44cbd1|592  |\n",
      "|174ef25d9556d516a813e2972f3b8351|603  |\n",
      "|723f73c85e91fc31d147dfade389d4f9|657  |\n",
      "|75caad099f6f8c205e22e93826732c22|666  |\n",
      "|1b3980ee40dc5d60ecae3b19cd41f49a|667  |\n",
      "|4ceedf57303e127d31a164c7ae5791d8|685  |\n",
      "|b367e71967b4701550ffce69e729ee6f|688  |\n",
      "|f9a023f31c8087fd0c169b3bedd351d1|691  |\n",
      "|5fb59bee157577ee04a269e52af88598|704  |\n",
      "|5837d4e32e5382af65d33b4dfbd9f561|710  |\n",
      "|525848b647262de5fd7be193b17cdaac|769  |\n",
      "|c85f192a81fa83780e5c012175749eee|774  |\n",
      "|abf2d3cb446492ee7897087db9a0b2a0|784  |\n",
      "|ae5a740ca930b9149f590179b0dde3f3|830  |\n",
      "|453d427550d3816e446d4882bf67a75f|850  |\n",
      "|c32ada18ec4f2992e8c003ffeb73b97b|864  |\n",
      "|dd1935ffd0ee2b6ec159ba7867d11e57|881  |\n",
      "|547bbdaa191bdb83d5b5b376bf2402fb|906  |\n",
      "|0dca7ec6ba9b6e8f17f04f713a6be727|932  |\n",
      "|4b58730cdc153f4eeda0d1321e630ba4|963  |\n",
      "|c80a47e4c53432d9ee8cd98c9ce13769|967  |\n",
      "|09f544ec2a74c89abeec7b0590fc2d11|978  |\n",
      "|b763aecfcfc8cbac2c3a51488d33480a|1005 |\n",
      "|37e2a39e829495d13b6cbb5320413e48|1024 |\n",
      "|7e3713530b46887cff58a2e2ac433ac5|1047 |\n",
      "|d4592ab52cb9cd5af0510943a4c8e28c|1067 |\n",
      "|a586c072b4a3958ac72a6fff71730cb3|1100 |\n",
      "|ffdad3ddbaf6c76c9bba1b48c51e03c6|1113 |\n",
      "|29f175b6bccc264e8141481dcda8102d|1115 |\n",
      "|1c234775cae774823f38abe6721e61a4|1167 |\n",
      "+--------------------------------+-----+\n",
      "only showing top 100 rows\n",
      "\n"
     ]
    }
   ],
   "source": [
    "df.groupBy('code').count().orderBy('count',ascending=True).show(100 , truncate =False)"
   ]
  },
  {
   "cell_type": "code",
   "execution_count": 91,
   "metadata": {
    "collapsed": true
   },
   "outputs": [],
   "source": [
    "#converter string para float "
   ]
  },
  {
   "cell_type": "code",
   "execution_count": 92,
   "metadata": {
    "collapsed": true
   },
   "outputs": [],
   "source": [
    "to_value = lambda v:float(v.replace(',','.'))"
   ]
  },
  {
   "cell_type": "code",
   "execution_count": 93,
   "metadata": {
    "collapsed": false
   },
   "outputs": [
    {
     "data": {
      "text/plain": [
       "3.5"
      ]
     },
     "execution_count": 93,
     "metadata": {},
     "output_type": "execute_result"
    }
   ],
   "source": [
    "to_value('3,5')"
   ]
  },
  {
   "cell_type": "code",
   "execution_count": 94,
   "metadata": {
    "collapsed": true
   },
   "outputs": [],
   "source": [
    "from pyspark.sql import functions as F"
   ]
  },
  {
   "cell_type": "code",
   "execution_count": 95,
   "metadata": {
    "collapsed": true
   },
   "outputs": [],
   "source": [
    "udf_to_value = F.udf(to_value, pyspark.sql.types.FloatType())"
   ]
  },
  {
   "cell_type": "code",
   "execution_count": null,
   "metadata": {
    "collapsed": true
   },
   "outputs": [],
   "source": []
  }
 ],
 "metadata": {
  "kernelspec": {
   "display_name": "Python 2",
   "language": "python",
   "name": "python2"
  }
 },
 "nbformat": 4,
 "nbformat_minor": 2
}
